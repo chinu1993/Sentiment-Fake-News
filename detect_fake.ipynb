{
 "cells": [
  {
   "cell_type": "code",
   "execution_count": 1,
   "metadata": {
    "collapsed": true
   },
   "outputs": [],
   "source": [
    "import pandas as pd\n",
    "import numpy as np\n",
    "from sklearn.feature_extraction.text import TfidfVectorizer\n",
    "from sklearn.feature_extraction.stop_words import ENGLISH_STOP_WORDS\n",
    "from sklearn import preprocessing\n",
    "from sklearn.feature_extraction.text import CountVectorizer,TfidfTransformer"
   ]
  },
  {
   "cell_type": "code",
   "execution_count": 2,
   "metadata": {},
   "outputs": [
    {
     "name": "stdout",
     "output_type": "stream",
     "text": [
      "(49972, 4)\n",
      "(25413, 4)\n"
     ]
    }
   ],
   "source": [
    "train = pd.read_csv('train.csv',encoding = \"gbk\")\n",
    "print(train.shape)\n",
    "test = pd.read_csv('test.csv',encoding = \"gbk\")\n",
    "print(test.shape)"
   ]
  },
  {
   "cell_type": "code",
   "execution_count": 3,
   "metadata": {},
   "outputs": [
    {
     "name": "stdout",
     "output_type": "stream",
     "text": [
      "(49972, 2)\n",
      "(49972,)\n",
      "(25413, 2)\n",
      "(25413,)\n"
     ]
    }
   ],
   "source": [
    "X_train = train.loc[:,['Headline','Body']].values\n",
    "Y_train = train.Stance.values\n",
    "X_test = test.loc[:,['Headline','Body']].values\n",
    "Y_test = test.Stance.values\n",
    "print(X_train.shape)\n",
    "print(Y_train.shape)\n",
    "print(X_test.shape)\n",
    "print(Y_test.shape)"
   ]
  },
  {
   "cell_type": "code",
   "execution_count": 4,
   "metadata": {
    "collapsed": true
   },
   "outputs": [],
   "source": [
    "def cos(vect1,vect2):  \n",
    "    dot_product = 0.0;  \n",
    "    norma = 0.0;  \n",
    "    normb = 0.0;  \n",
    "    for a,b in zip(vect1,vect2):  \n",
    "        dot_product += a*b  \n",
    "        norma += a**2  \n",
    "        normb += b**2  \n",
    "    if norma == 0.0 or norma==0.0:  \n",
    "        return 0  \n",
    "    else:  \n",
    "        return dot_product / ((norma*normb)**0.5) "
   ]
  },
  {
   "cell_type": "code",
   "execution_count": 5,
   "metadata": {
    "collapsed": true,
    "scrolled": true
   },
   "outputs": [],
   "source": [
    "def get_cos(X):\n",
    "    stop_word = list(ENGLISH_STOP_WORDS)\n",
    "    vectorizer=CountVectorizer()\n",
    "    transformer=TfidfTransformer()\n",
    "    Y_weight = []\n",
    "    for row in range(len(X)):\n",
    "        if row%5000 == 1:\n",
    "            print('calculating Tf-Idf and Cosine similarity.... current:',row)\n",
    "        for col in [0,1]:\n",
    "            X[row][col] = ' '.join([word for word in X[row][col].split() if word not in stop_word])\n",
    "        tfidf=transformer.fit_transform(vectorizer.fit_transform(X[row]))\n",
    "        word=vectorizer.get_feature_names()\n",
    "        weight=tfidf.toarray()\n",
    "        Y_weight.append(cos(weight[0],weight[1]))\n",
    "    print('completed!')\n",
    "    return Y_weight"
   ]
  },
  {
   "cell_type": "code",
   "execution_count": 6,
   "metadata": {
    "collapsed": true
   },
   "outputs": [],
   "source": [
    "def predict(para,X):\n",
    "    Y_weight = get_cos(X)\n",
    "    Y_predict = []\n",
    "    for i in range(len(Y_weight)):\n",
    "        if Y_weight[i] > para:\n",
    "            Y_predict.append('related')\n",
    "        else:\n",
    "            Y_predict.append('unrelated')\n",
    "    return Y_predict"
   ]
  },
  {
   "cell_type": "code",
   "execution_count": 7,
   "metadata": {
    "collapsed": true
   },
   "outputs": [],
   "source": [
    "def fit(X_train):\n",
    "    Y_train_weight = get_cos(X_train)\n",
    "    best_w = 0\n",
    "    best_accuracy = 0\n",
    "    best_t = 0\n",
    "    best_f = 0\n",
    "    for w in np.arange(0.01,0.3,0.001):\n",
    "        T = 0\n",
    "        F = 0\n",
    "        for i in range(len(Y_train_weight)):\n",
    "            if Y_train_weight[i]>w and Y_train[i] != 'unrelated' or Y_train_weight[i]<w and Y_train[i] == 'unrelated':\n",
    "                T += 1\n",
    "            else:\n",
    "                F += 1\n",
    "        accuracy = T/(T+F)\n",
    "        if accuracy>best_accuracy:\n",
    "            best_w = w\n",
    "            best_accuracy = accuracy\n",
    "            best_t = T\n",
    "            best_f = F\n",
    "    return best_w"
   ]
  },
  {
   "cell_type": "code",
   "execution_count": 8,
   "metadata": {
    "collapsed": true
   },
   "outputs": [],
   "source": [
    "def accuracy(Y_predict, Y):\n",
    "    TN = 0\n",
    "    TP = 0\n",
    "    FP = 0\n",
    "    FN = 0\n",
    "    for i in range(len(Y)):\n",
    "        if Y[i] == 'unrelated' and Y_predict[i] == 'unrelated':\n",
    "            TN += 1\n",
    "        if Y[i] != 'unrelated' and Y_predict[i] == 'unrelated':\n",
    "            FN += 1\n",
    "        if Y[i] == 'unrelated' and Y_predict[i] != 'unrelated':\n",
    "            FP += 1\n",
    "        if Y[i] != 'unrelated' and Y_predict[i] != 'unrelated':\n",
    "            TP += 1\n",
    "    precision = TP/(TP+FP)\n",
    "    recall = TP/(TP+FN)\n",
    "    accuracy = (TP+TN)/len(Y)\n",
    "    print ('precision:',precision)\n",
    "    print('recall:',recall)\n",
    "    print('total accuracy:',accuracy)\n",
    "    return precision,recall,accuracy"
   ]
  },
  {
   "cell_type": "code",
   "execution_count": 9,
   "metadata": {},
   "outputs": [
    {
     "name": "stdout",
     "output_type": "stream",
     "text": [
      "('calculating Tf-Idf and Cosine similarity.... current:', 1)\n",
      "('calculating Tf-Idf and Cosine similarity.... current:', 5001)\n",
      "('calculating Tf-Idf and Cosine similarity.... current:', 10001)\n",
      "('calculating Tf-Idf and Cosine similarity.... current:', 15001)\n",
      "('calculating Tf-Idf and Cosine similarity.... current:', 20001)\n",
      "('calculating Tf-Idf and Cosine similarity.... current:', 25001)\n",
      "('calculating Tf-Idf and Cosine similarity.... current:', 30001)\n",
      "('calculating Tf-Idf and Cosine similarity.... current:', 35001)\n",
      "('calculating Tf-Idf and Cosine similarity.... current:', 40001)\n",
      "('calculating Tf-Idf and Cosine similarity.... current:', 45001)\n",
      "completed!\n"
     ]
    }
   ],
   "source": [
    "para = fit(X_train)"
   ]
  },
  {
   "cell_type": "code",
   "execution_count": 12,
   "metadata": {},
   "outputs": [
    {
     "name": "stdout",
     "output_type": "stream",
     "text": [
      "0\n"
     ]
    },
    {
     "data": {
      "text/plain": [
       "0"
      ]
     },
     "execution_count": 12,
     "metadata": {},
     "output_type": "execute_result"
    }
   ],
   "source": [
    "print(para)\n",
    "para"
   ]
  },
  {
   "cell_type": "code",
   "execution_count": 21,
   "metadata": {},
   "outputs": [
    {
     "name": "stdout",
     "output_type": "stream",
     "text": [
      "calculating Tf-Idf and Cosine similarity.... current: 1\n",
      "calculating Tf-Idf and Cosine similarity.... current: 5001\n",
      "calculating Tf-Idf and Cosine similarity.... current: 10001\n",
      "calculating Tf-Idf and Cosine similarity.... current: 15001\n",
      "calculating Tf-Idf and Cosine similarity.... current: 20001\n",
      "calculating Tf-Idf and Cosine similarity.... current: 25001\n",
      "completed!\n"
     ]
    }
   ],
   "source": [
    "Y_test_predict = predict(para,X_test)"
   ]
  },
  {
   "cell_type": "code",
   "execution_count": 22,
   "metadata": {
    "scrolled": true
   },
   "outputs": [
    {
     "name": "stdout",
     "output_type": "stream",
     "text": [
      "precision: 0.9351865840761444\n",
      "recall: 0.8762740656851642\n",
      "total accuracy: 0.9487270294731043\n"
     ]
    },
    {
     "data": {
      "text/plain": [
       "(0.9351865840761444, 0.8762740656851642, 0.9487270294731043)"
      ]
     },
     "execution_count": 22,
     "metadata": {},
     "output_type": "execute_result"
    }
   ],
   "source": [
    "accuracy(Y_test_predict,Y_test)"
   ]
  },
  {
   "cell_type": "code",
   "execution_count": null,
   "metadata": {
    "collapsed": true
   },
   "outputs": [],
   "source": []
  },
  {
   "cell_type": "code",
   "execution_count": null,
   "metadata": {
    "collapsed": true
   },
   "outputs": [],
   "source": []
  }
 ],
 "metadata": {
  "kernelspec": {
   "display_name": "Python 3",
   "language": "python",
   "name": "python3"
  },
  "language_info": {
   "codemirror_mode": {
    "name": "ipython",
    "version": 3
   },
   "file_extension": ".py",
   "mimetype": "text/x-python",
   "name": "python",
   "nbconvert_exporter": "python",
   "pygments_lexer": "ipython3",
   "version": "3.6.1"
  }
 },
 "nbformat": 4,
 "nbformat_minor": 2
}
