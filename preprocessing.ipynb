{
 "cells": [
  {
   "cell_type": "code",
   "execution_count": 2,
   "metadata": {
    "collapsed": true
   },
   "outputs": [],
   "source": [
    "import numpy as np\n",
    "import pandas as pd"
   ]
  },
  {
   "cell_type": "code",
   "execution_count": 18,
   "metadata": {},
   "outputs": [
    {
     "name": "stdout",
     "output_type": "stream",
     "text": [
      "(1683, 2)\n",
      "(49972, 3)\n",
      "(904, 2)\n",
      "(25413, 3)\n"
     ]
    }
   ],
   "source": [
    "\"\"\"\n",
    "read file\n",
    "\"\"\"\n",
    "train_body = pd.read_csv('train_bodies.csv')\n",
    "train_stances = pd.read_csv('train_stances.csv')\n",
    "print(train_body.shape)\n",
    "print(train_stances.shape)\n",
    "test_body = pd.read_csv('test_bodies.csv')\n",
    "test_stances = pd.read_csv('competition_test_stances.csv')\n",
    "print(test_body.shape)\n",
    "print(test_stances.shape)"
   ]
  },
  {
   "cell_type": "code",
   "execution_count": 20,
   "metadata": {
    "scrolled": true
   },
   "outputs": [
    {
     "name": "stdout",
     "output_type": "stream",
     "text": [
      "                                             Headline  Body ID     Stance\n",
      "0      Soldier shot near Canadian parliament building        0  unrelated\n",
      "20  Luke Somers' sister says he was killed in fail...        0  unrelated\n",
      "21  Surreal Photos of Fisherman’s Jaw-Dropping Cat...        0  unrelated\n",
      "                                            Headline  Body ID     Stance\n",
      "0     Soldier shot near Canadian parliament building        0  unrelated\n",
      "1  Luke Somers' sister says he was killed in fail...        0  unrelated\n",
      "2  Surreal Photos of Fisherman’s Jaw-Dropping Cat...        0  unrelated\n",
      "                                             Headline  Body ID     Stance\n",
      "0   18-Karat Gold Apple Watch Edition To Be Locked...        1  unrelated\n",
      "18  Polish Teenager Wakes Up During Brain Surgery,...        1  unrelated\n",
      "17  Apple Stores to Keep Gold “Edition” Apple Watc...        1  unrelated\n",
      "                                            Headline  Body ID     Stance\n",
      "0  18-Karat Gold Apple Watch Edition To Be Locked...        1  unrelated\n",
      "1  Polish Teenager Wakes Up During Brain Surgery,...        1  unrelated\n",
      "2  Apple Stores to Keep Gold “Edition” Apple Watc...        1  unrelated\n"
     ]
    }
   ],
   "source": [
    "\"\"\"\n",
    "sort by body id\n",
    "\"\"\"\n",
    "train_stances = train_stances.sort_values(by=['Body ID'])\n",
    "print(train_stances.head(3))\n",
    "train_stances = train_stances.reset_index(drop=True)  \n",
    "print(train_stances.head(3))\n",
    "test_stances = test_stances.sort_values(by=['Body ID'])\n",
    "print(test_stances.head(3))\n",
    "test_stances = test_stances.reset_index(drop=True)  \n",
    "print(test_stances.head(3))"
   ]
  },
  {
   "cell_type": "code",
   "execution_count": 14,
   "metadata": {},
   "outputs": [
    {
     "name": "stdout",
     "output_type": "stream",
     "text": [
      "Done\n"
     ]
    }
   ],
   "source": [
    "\"\"\"\n",
    "match the body id in train_stances and train_body file\n",
    "and merge two file \n",
    "\"\"\"\n",
    "j = 0\n",
    "for i in range(len(train_stances.index)):\n",
    "    if train_stances.loc[i,'Body ID'] != train_body.loc[j,'Body ID']:\n",
    "        j += 1\n",
    "    train_stances.loc[i,'Body'] = train_body.loc[j,'articleBody']\n",
    "j = 0\n",
    "for i in range(len(test_stances.index)):\n",
    "    if test_stances.loc[i,'Body ID'] != test_body.loc[j,'Body ID']:\n",
    "        j += 1\n",
    "    test_stances.loc[i,'Body'] = test_body.loc[j,'articleBody']\n",
    "print(\"Done\")"
   ]
  },
  {
   "cell_type": "code",
   "execution_count": 15,
   "metadata": {},
   "outputs": [
    {
     "name": "stdout",
     "output_type": "stream",
     "text": [
      "Done\n"
     ]
    }
   ],
   "source": [
    "\"\"\"\n",
    "write to file\n",
    "\"\"\"\n",
    "\n",
    "train_stances.to_csv('train.csv',index=False)\n",
    "test_stances.to_csv('test.csv',index=False)\n",
    "print(\"Done\")"
   ]
  }
 ],
 "metadata": {
  "kernelspec": {
   "display_name": "Python 3",
   "language": "python",
   "name": "python3"
  },
  "language_info": {
   "codemirror_mode": {
    "name": "ipython",
    "version": 2
   },
   "file_extension": ".py",
   "mimetype": "text/x-python",
   "name": "python",
   "nbconvert_exporter": "python",
   "pygments_lexer": "ipython2",
   "version": "2.7.14"
  }
 },
 "nbformat": 4,
 "nbformat_minor": 2
}
